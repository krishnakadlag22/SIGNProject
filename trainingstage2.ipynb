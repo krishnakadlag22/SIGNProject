{
 "cells": [
  {
   "cell_type": "code",
   "execution_count": 143,
   "metadata": {},
   "outputs": [],
   "source": [
    "import os\n",
    "import yaml\n",
    "import numpy as np\n",
    "import tensorflow as tf\n",
    "from sklearn.model_selection import train_test_split\n",
    "from tensorflow.keras import layers, models\n",
    "import json"
   ]
  },
  {
   "cell_type": "markdown",
   "metadata": {},
   "source": [
    "Preprocessing"
   ]
  },
  {
   "cell_type": "code",
   "execution_count": 144,
   "metadata": {},
   "outputs": [],
   "source": [
    "# Load and preprocess data\n",
    "def load_data(directory):\n",
    "    data = []\n",
    "    labels = []\n",
    "    \n",
    "    for filename in os.listdir(directory):\n",
    "        if filename.endswith(\".yml\"):\n",
    "            with open(os.path.join(directory, filename), 'r') as yaml_file:\n",
    "                hand_data = yaml.safe_load(yaml_file)\n",
    "                landmarks = [point['x'] for point in hand_data['hand_landmarks']]\n",
    "                data.append(landmarks)\n",
    "                labels.append(directory.split(\"/\")[-1])  # Assuming the class label is the last part of the directory\n",
    "\n",
    "    return np.array(data), labels"
   ]
  },
  {
   "cell_type": "code",
   "execution_count": 145,
   "metadata": {},
   "outputs": [],
   "source": [
    "# Prepare dataset\n",
    "signs_dir = \"Signs\"\n",
    "classes = os.listdir(signs_dir)\n",
    "all_data = []\n",
    "all_labels = []\n"
   ]
  },
  {
   "cell_type": "code",
   "execution_count": 146,
   "metadata": {},
   "outputs": [],
   "source": [
    "# Convert list to dictionary\n",
    "my_dict = {i: classes[i] for i in range(len(classes))}\n",
    "\n",
    "# Save the dictionary to a JSON file\n",
    "with open('labels_info.json', 'w') as json_file:\n",
    "    json.dump(my_dict, json_file)"
   ]
  },
  {
   "cell_type": "code",
   "execution_count": 147,
   "metadata": {},
   "outputs": [
    {
     "name": "stdout",
     "output_type": "stream",
     "text": [
      "[]\n",
      "['Hello', 'I love You', 'U', 'V', 'W']\n"
     ]
    }
   ],
   "source": [
    "print(all_labels)\n",
    "print(classes)"
   ]
  },
  {
   "cell_type": "code",
   "execution_count": 148,
   "metadata": {},
   "outputs": [],
   "source": [
    "for sign_class in classes:\n",
    "    data, labels = load_data(os.path.join(signs_dir, sign_class))\n",
    "    all_data.extend(data)\n",
    "    all_labels.extend(labels)\n"
   ]
  },
  {
   "cell_type": "code",
   "execution_count": 149,
   "metadata": {},
   "outputs": [],
   "source": [
    "# Convert labels to integers\n",
    "label_to_int = {label: i for i, label in enumerate(set(all_labels))}\n",
    "all_labels = [label_to_int[label] for label in all_labels]"
   ]
  },
  {
   "cell_type": "code",
   "execution_count": 150,
   "metadata": {},
   "outputs": [
    {
     "name": "stdout",
     "output_type": "stream",
     "text": [
      "{'Signs\\\\W': 0, 'Signs\\\\I love You': 1, 'Signs\\\\U': 2, 'Signs\\\\V': 3, 'Signs\\\\Hello': 4}\n"
     ]
    }
   ],
   "source": [
    "print(label_to_int)"
   ]
  },
  {
   "cell_type": "markdown",
   "metadata": {},
   "source": [
    "Training"
   ]
  },
  {
   "cell_type": "code",
   "execution_count": 151,
   "metadata": {},
   "outputs": [],
   "source": [
    "# Convert data to numpy array\n",
    "X_data = np.array(all_data)\n",
    "y_labels = np.array(all_labels)\n"
   ]
  },
  {
   "cell_type": "code",
   "execution_count": 152,
   "metadata": {},
   "outputs": [],
   "source": [
    "# Split the dataset\n",
    "X_train, X_test, y_train, y_test = train_test_split(X_data, y_labels, test_size=0.2, random_state=42)\n"
   ]
  },
  {
   "cell_type": "code",
   "execution_count": 153,
   "metadata": {},
   "outputs": [],
   "source": [
    "# Build the model\n",
    "model = models.Sequential([\n",
    "    layers.Dense(128, activation='relu', input_shape=(X_train.shape[1],)),\n",
    "    layers.Dense(64, activation='relu'),\n",
    "    layers.Dense(len(set(all_labels)), activation='softmax')\n",
    "])"
   ]
  },
  {
   "cell_type": "code",
   "execution_count": 154,
   "metadata": {},
   "outputs": [],
   "source": [
    "model.compile(optimizer='adam', loss='sparse_categorical_crossentropy', metrics=['accuracy'])\n"
   ]
  },
  {
   "cell_type": "code",
   "execution_count": 155,
   "metadata": {},
   "outputs": [
    {
     "name": "stdout",
     "output_type": "stream",
     "text": [
      "Epoch 1/100\n"
     ]
    },
    {
     "name": "stdout",
     "output_type": "stream",
     "text": [
      "25/25 [==============================] - 1s 11ms/step - loss: 1.6139 - accuracy: 0.2262 - val_loss: 1.6008 - val_accuracy: 0.2900\n",
      "Epoch 2/100\n",
      "25/25 [==============================] - 0s 5ms/step - loss: 1.5962 - accuracy: 0.3125 - val_loss: 1.5830 - val_accuracy: 0.3500\n",
      "Epoch 3/100\n",
      "25/25 [==============================] - 0s 5ms/step - loss: 1.5783 - accuracy: 0.2875 - val_loss: 1.5705 - val_accuracy: 0.5200\n",
      "Epoch 4/100\n",
      "25/25 [==============================] - 0s 4ms/step - loss: 1.5588 - accuracy: 0.4450 - val_loss: 1.5441 - val_accuracy: 0.5250\n",
      "Epoch 5/100\n",
      "25/25 [==============================] - 0s 4ms/step - loss: 1.5256 - accuracy: 0.4087 - val_loss: 1.5158 - val_accuracy: 0.5000\n",
      "Epoch 6/100\n",
      "25/25 [==============================] - 0s 4ms/step - loss: 1.4851 - accuracy: 0.4600 - val_loss: 1.4713 - val_accuracy: 0.3500\n",
      "Epoch 7/100\n",
      "25/25 [==============================] - 0s 4ms/step - loss: 1.4304 - accuracy: 0.4550 - val_loss: 1.4184 - val_accuracy: 0.4300\n",
      "Epoch 8/100\n",
      "25/25 [==============================] - 0s 4ms/step - loss: 1.3686 - accuracy: 0.4412 - val_loss: 1.3640 - val_accuracy: 0.4200\n",
      "Epoch 9/100\n",
      "25/25 [==============================] - 0s 4ms/step - loss: 1.3080 - accuracy: 0.4288 - val_loss: 1.2988 - val_accuracy: 0.6100\n",
      "Epoch 10/100\n",
      "25/25 [==============================] - 0s 4ms/step - loss: 1.2419 - accuracy: 0.5138 - val_loss: 1.2356 - val_accuracy: 0.4700\n",
      "Epoch 11/100\n",
      "25/25 [==============================] - 0s 4ms/step - loss: 1.1885 - accuracy: 0.5375 - val_loss: 1.1853 - val_accuracy: 0.5000\n",
      "Epoch 12/100\n",
      "25/25 [==============================] - 0s 4ms/step - loss: 1.1259 - accuracy: 0.5875 - val_loss: 1.1245 - val_accuracy: 0.6100\n",
      "Epoch 13/100\n",
      "25/25 [==============================] - 0s 4ms/step - loss: 1.0741 - accuracy: 0.6438 - val_loss: 1.0632 - val_accuracy: 0.6050\n",
      "Epoch 14/100\n",
      "25/25 [==============================] - 0s 4ms/step - loss: 1.0212 - accuracy: 0.6087 - val_loss: 1.0220 - val_accuracy: 0.6100\n",
      "Epoch 15/100\n",
      "25/25 [==============================] - 0s 4ms/step - loss: 0.9733 - accuracy: 0.6375 - val_loss: 0.9676 - val_accuracy: 0.6750\n",
      "Epoch 16/100\n",
      "25/25 [==============================] - 0s 4ms/step - loss: 0.9241 - accuracy: 0.7262 - val_loss: 0.9037 - val_accuracy: 0.6050\n",
      "Epoch 17/100\n",
      "25/25 [==============================] - 0s 4ms/step - loss: 0.8800 - accuracy: 0.6625 - val_loss: 0.8624 - val_accuracy: 0.6300\n",
      "Epoch 18/100\n",
      "25/25 [==============================] - 0s 4ms/step - loss: 0.8357 - accuracy: 0.6625 - val_loss: 0.8528 - val_accuracy: 0.6550\n",
      "Epoch 19/100\n",
      "25/25 [==============================] - 0s 4ms/step - loss: 0.8080 - accuracy: 0.6950 - val_loss: 0.7935 - val_accuracy: 0.7300\n",
      "Epoch 20/100\n",
      "25/25 [==============================] - 0s 4ms/step - loss: 0.7795 - accuracy: 0.7337 - val_loss: 0.7728 - val_accuracy: 0.7800\n",
      "Epoch 21/100\n",
      "25/25 [==============================] - 0s 6ms/step - loss: 0.7458 - accuracy: 0.7275 - val_loss: 0.7499 - val_accuracy: 0.6600\n",
      "Epoch 22/100\n",
      "25/25 [==============================] - 0s 4ms/step - loss: 0.7144 - accuracy: 0.7613 - val_loss: 0.6988 - val_accuracy: 0.8500\n",
      "Epoch 23/100\n",
      "25/25 [==============================] - 0s 4ms/step - loss: 0.6915 - accuracy: 0.7675 - val_loss: 0.7051 - val_accuracy: 0.7200\n",
      "Epoch 24/100\n",
      "25/25 [==============================] - 0s 4ms/step - loss: 0.6720 - accuracy: 0.7675 - val_loss: 0.6882 - val_accuracy: 0.7450\n",
      "Epoch 25/100\n",
      "25/25 [==============================] - 0s 4ms/step - loss: 0.6575 - accuracy: 0.7975 - val_loss: 0.6696 - val_accuracy: 0.8200\n",
      "Epoch 26/100\n",
      "25/25 [==============================] - 0s 4ms/step - loss: 0.6246 - accuracy: 0.8062 - val_loss: 0.6222 - val_accuracy: 0.8850\n",
      "Epoch 27/100\n",
      "25/25 [==============================] - 0s 4ms/step - loss: 0.6075 - accuracy: 0.8188 - val_loss: 0.6067 - val_accuracy: 0.8550\n",
      "Epoch 28/100\n",
      "25/25 [==============================] - 0s 4ms/step - loss: 0.6025 - accuracy: 0.8400 - val_loss: 0.6417 - val_accuracy: 0.6900\n",
      "Epoch 29/100\n",
      "25/25 [==============================] - 0s 4ms/step - loss: 0.5846 - accuracy: 0.7912 - val_loss: 0.5803 - val_accuracy: 0.9050\n",
      "Epoch 30/100\n",
      "25/25 [==============================] - 0s 4ms/step - loss: 0.5591 - accuracy: 0.8050 - val_loss: 0.5736 - val_accuracy: 0.8200\n",
      "Epoch 31/100\n",
      "25/25 [==============================] - 0s 4ms/step - loss: 0.5383 - accuracy: 0.8863 - val_loss: 0.5536 - val_accuracy: 0.9150\n",
      "Epoch 32/100\n",
      "25/25 [==============================] - 0s 4ms/step - loss: 0.5277 - accuracy: 0.8462 - val_loss: 0.5556 - val_accuracy: 0.8000\n",
      "Epoch 33/100\n",
      "25/25 [==============================] - 0s 4ms/step - loss: 0.5309 - accuracy: 0.8512 - val_loss: 0.5440 - val_accuracy: 0.8600\n",
      "Epoch 34/100\n",
      "25/25 [==============================] - 0s 4ms/step - loss: 0.5008 - accuracy: 0.8425 - val_loss: 0.5206 - val_accuracy: 0.8900\n",
      "Epoch 35/100\n",
      "25/25 [==============================] - 0s 4ms/step - loss: 0.4941 - accuracy: 0.8725 - val_loss: 0.5045 - val_accuracy: 0.8950\n",
      "Epoch 36/100\n",
      "25/25 [==============================] - 0s 4ms/step - loss: 0.4760 - accuracy: 0.8800 - val_loss: 0.4904 - val_accuracy: 0.9050\n",
      "Epoch 37/100\n",
      "25/25 [==============================] - 0s 4ms/step - loss: 0.4742 - accuracy: 0.8487 - val_loss: 0.5026 - val_accuracy: 0.8900\n",
      "Epoch 38/100\n",
      "25/25 [==============================] - 0s 4ms/step - loss: 0.4616 - accuracy: 0.8750 - val_loss: 0.5179 - val_accuracy: 0.8800\n",
      "Epoch 39/100\n",
      "25/25 [==============================] - 0s 5ms/step - loss: 0.4454 - accuracy: 0.8888 - val_loss: 0.4836 - val_accuracy: 0.8350\n",
      "Epoch 40/100\n",
      "25/25 [==============================] - 0s 4ms/step - loss: 0.4290 - accuracy: 0.8813 - val_loss: 0.4491 - val_accuracy: 0.9500\n",
      "Epoch 41/100\n",
      "25/25 [==============================] - 0s 4ms/step - loss: 0.4266 - accuracy: 0.8925 - val_loss: 0.4413 - val_accuracy: 0.9300\n",
      "Epoch 42/100\n",
      "25/25 [==============================] - 0s 5ms/step - loss: 0.4142 - accuracy: 0.8850 - val_loss: 0.4408 - val_accuracy: 0.9350\n",
      "Epoch 43/100\n",
      "25/25 [==============================] - 0s 4ms/step - loss: 0.4162 - accuracy: 0.8888 - val_loss: 0.4514 - val_accuracy: 0.8300\n",
      "Epoch 44/100\n",
      "25/25 [==============================] - 0s 4ms/step - loss: 0.4054 - accuracy: 0.8838 - val_loss: 0.4318 - val_accuracy: 0.9400\n",
      "Epoch 45/100\n",
      "25/25 [==============================] - 0s 4ms/step - loss: 0.4035 - accuracy: 0.9025 - val_loss: 0.4903 - val_accuracy: 0.7500\n",
      "Epoch 46/100\n",
      "25/25 [==============================] - 0s 4ms/step - loss: 0.3859 - accuracy: 0.8963 - val_loss: 0.4166 - val_accuracy: 0.8650\n",
      "Epoch 47/100\n",
      "25/25 [==============================] - 0s 4ms/step - loss: 0.3855 - accuracy: 0.9038 - val_loss: 0.4156 - val_accuracy: 0.9000\n",
      "Epoch 48/100\n",
      "25/25 [==============================] - 0s 4ms/step - loss: 0.3701 - accuracy: 0.8875 - val_loss: 0.3991 - val_accuracy: 0.9050\n",
      "Epoch 49/100\n",
      "25/25 [==============================] - 0s 4ms/step - loss: 0.3584 - accuracy: 0.9112 - val_loss: 0.4105 - val_accuracy: 0.8700\n",
      "Epoch 50/100\n",
      "25/25 [==============================] - 0s 4ms/step - loss: 0.3592 - accuracy: 0.8875 - val_loss: 0.3807 - val_accuracy: 0.9500\n",
      "Epoch 51/100\n",
      "25/25 [==============================] - 0s 4ms/step - loss: 0.3536 - accuracy: 0.8963 - val_loss: 0.4112 - val_accuracy: 0.8950\n",
      "Epoch 52/100\n",
      "25/25 [==============================] - 0s 4ms/step - loss: 0.3498 - accuracy: 0.9225 - val_loss: 0.3789 - val_accuracy: 0.9250\n",
      "Epoch 53/100\n",
      "25/25 [==============================] - 0s 4ms/step - loss: 0.3234 - accuracy: 0.9300 - val_loss: 0.3633 - val_accuracy: 0.9150\n",
      "Epoch 54/100\n",
      "25/25 [==============================] - 0s 4ms/step - loss: 0.3230 - accuracy: 0.9087 - val_loss: 0.3487 - val_accuracy: 0.9550\n",
      "Epoch 55/100\n",
      "25/25 [==============================] - 0s 4ms/step - loss: 0.3172 - accuracy: 0.9287 - val_loss: 0.3596 - val_accuracy: 0.9100\n",
      "Epoch 56/100\n",
      "25/25 [==============================] - 0s 4ms/step - loss: 0.3098 - accuracy: 0.9262 - val_loss: 0.3688 - val_accuracy: 0.9050\n",
      "Epoch 57/100\n",
      "25/25 [==============================] - 0s 4ms/step - loss: 0.3102 - accuracy: 0.9237 - val_loss: 0.3346 - val_accuracy: 0.9550\n",
      "Epoch 58/100\n",
      "25/25 [==============================] - 0s 4ms/step - loss: 0.2980 - accuracy: 0.9300 - val_loss: 0.3845 - val_accuracy: 0.8450\n",
      "Epoch 59/100\n",
      "25/25 [==============================] - 0s 4ms/step - loss: 0.3049 - accuracy: 0.9250 - val_loss: 0.3347 - val_accuracy: 0.9250\n",
      "Epoch 60/100\n",
      "25/25 [==============================] - 0s 4ms/step - loss: 0.2976 - accuracy: 0.9187 - val_loss: 0.3303 - val_accuracy: 0.9500\n",
      "Epoch 61/100\n",
      "25/25 [==============================] - 0s 4ms/step - loss: 0.2856 - accuracy: 0.9350 - val_loss: 0.3457 - val_accuracy: 0.9150\n",
      "Epoch 62/100\n",
      "25/25 [==============================] - 0s 4ms/step - loss: 0.2953 - accuracy: 0.9175 - val_loss: 0.3232 - val_accuracy: 0.9300\n",
      "Epoch 63/100\n",
      "25/25 [==============================] - 0s 6ms/step - loss: 0.2856 - accuracy: 0.9350 - val_loss: 0.3387 - val_accuracy: 0.9150\n",
      "Epoch 64/100\n",
      "25/25 [==============================] - 0s 4ms/step - loss: 0.2767 - accuracy: 0.9275 - val_loss: 0.3096 - val_accuracy: 0.9550\n",
      "Epoch 65/100\n",
      "25/25 [==============================] - 0s 4ms/step - loss: 0.2676 - accuracy: 0.9400 - val_loss: 0.3185 - val_accuracy: 0.9250\n",
      "Epoch 66/100\n",
      "25/25 [==============================] - 0s 4ms/step - loss: 0.2700 - accuracy: 0.9325 - val_loss: 0.3246 - val_accuracy: 0.9250\n",
      "Epoch 67/100\n",
      "25/25 [==============================] - 0s 4ms/step - loss: 0.2797 - accuracy: 0.9275 - val_loss: 0.3058 - val_accuracy: 0.9550\n",
      "Epoch 68/100\n",
      "25/25 [==============================] - 0s 4ms/step - loss: 0.2771 - accuracy: 0.9337 - val_loss: 0.3074 - val_accuracy: 0.9500\n",
      "Epoch 69/100\n",
      "25/25 [==============================] - 0s 4ms/step - loss: 0.2703 - accuracy: 0.9287 - val_loss: 0.3350 - val_accuracy: 0.9050\n",
      "Epoch 70/100\n",
      "25/25 [==============================] - 0s 4ms/step - loss: 0.2780 - accuracy: 0.9300 - val_loss: 0.3125 - val_accuracy: 0.9000\n",
      "Epoch 71/100\n",
      "25/25 [==============================] - 0s 3ms/step - loss: 0.2538 - accuracy: 0.9375 - val_loss: 0.2959 - val_accuracy: 0.9650\n",
      "Epoch 72/100\n",
      "25/25 [==============================] - 0s 4ms/step - loss: 0.2532 - accuracy: 0.9337 - val_loss: 0.2799 - val_accuracy: 0.9600\n",
      "Epoch 73/100\n",
      "25/25 [==============================] - 0s 4ms/step - loss: 0.2462 - accuracy: 0.9413 - val_loss: 0.2896 - val_accuracy: 0.9600\n",
      "Epoch 74/100\n",
      "25/25 [==============================] - 0s 4ms/step - loss: 0.2487 - accuracy: 0.9388 - val_loss: 0.3073 - val_accuracy: 0.9500\n",
      "Epoch 75/100\n",
      "25/25 [==============================] - 0s 4ms/step - loss: 0.2504 - accuracy: 0.9325 - val_loss: 0.2809 - val_accuracy: 0.9200\n",
      "Epoch 76/100\n",
      "25/25 [==============================] - 0s 5ms/step - loss: 0.2447 - accuracy: 0.9300 - val_loss: 0.2984 - val_accuracy: 0.9450\n",
      "Epoch 77/100\n",
      "25/25 [==============================] - 0s 4ms/step - loss: 0.2353 - accuracy: 0.9400 - val_loss: 0.2751 - val_accuracy: 0.9550\n",
      "Epoch 78/100\n",
      "25/25 [==============================] - 0s 4ms/step - loss: 0.2300 - accuracy: 0.9513 - val_loss: 0.2658 - val_accuracy: 0.9650\n",
      "Epoch 79/100\n",
      "25/25 [==============================] - 0s 4ms/step - loss: 0.2377 - accuracy: 0.9413 - val_loss: 0.2680 - val_accuracy: 0.9600\n",
      "Epoch 80/100\n",
      "25/25 [==============================] - 0s 4ms/step - loss: 0.2395 - accuracy: 0.9362 - val_loss: 0.2809 - val_accuracy: 0.9300\n",
      "Epoch 81/100\n",
      "25/25 [==============================] - 0s 4ms/step - loss: 0.2305 - accuracy: 0.9463 - val_loss: 0.2574 - val_accuracy: 0.9650\n",
      "Epoch 82/100\n",
      "25/25 [==============================] - 0s 4ms/step - loss: 0.2203 - accuracy: 0.9337 - val_loss: 0.2503 - val_accuracy: 0.9600\n",
      "Epoch 83/100\n",
      "25/25 [==============================] - 0s 4ms/step - loss: 0.2215 - accuracy: 0.9438 - val_loss: 0.2540 - val_accuracy: 0.9550\n",
      "Epoch 84/100\n",
      "25/25 [==============================] - 0s 6ms/step - loss: 0.2249 - accuracy: 0.9325 - val_loss: 0.2897 - val_accuracy: 0.9200\n",
      "Epoch 85/100\n",
      "25/25 [==============================] - 0s 4ms/step - loss: 0.2173 - accuracy: 0.9463 - val_loss: 0.3114 - val_accuracy: 0.9050\n",
      "Epoch 86/100\n",
      "25/25 [==============================] - 0s 4ms/step - loss: 0.2245 - accuracy: 0.9463 - val_loss: 0.2803 - val_accuracy: 0.9400\n",
      "Epoch 87/100\n",
      "25/25 [==============================] - 0s 5ms/step - loss: 0.2069 - accuracy: 0.9438 - val_loss: 0.2539 - val_accuracy: 0.9650\n",
      "Epoch 88/100\n",
      "25/25 [==============================] - 0s 4ms/step - loss: 0.1997 - accuracy: 0.9525 - val_loss: 0.2567 - val_accuracy: 0.9500\n",
      "Epoch 89/100\n",
      "25/25 [==============================] - 0s 4ms/step - loss: 0.2047 - accuracy: 0.9513 - val_loss: 0.2538 - val_accuracy: 0.9500\n",
      "Epoch 90/100\n",
      "25/25 [==============================] - 0s 4ms/step - loss: 0.1992 - accuracy: 0.9525 - val_loss: 0.2536 - val_accuracy: 0.9500\n",
      "Epoch 91/100\n",
      "25/25 [==============================] - 0s 4ms/step - loss: 0.1981 - accuracy: 0.9550 - val_loss: 0.2725 - val_accuracy: 0.9200\n",
      "Epoch 92/100\n",
      "25/25 [==============================] - 0s 4ms/step - loss: 0.1953 - accuracy: 0.9525 - val_loss: 0.2306 - val_accuracy: 0.9700\n",
      "Epoch 93/100\n",
      "25/25 [==============================] - 0s 4ms/step - loss: 0.1921 - accuracy: 0.9525 - val_loss: 0.2474 - val_accuracy: 0.9600\n",
      "Epoch 94/100\n",
      "25/25 [==============================] - 0s 4ms/step - loss: 0.2018 - accuracy: 0.9500 - val_loss: 0.2456 - val_accuracy: 0.9750\n",
      "Epoch 95/100\n",
      "25/25 [==============================] - 0s 4ms/step - loss: 0.1959 - accuracy: 0.9450 - val_loss: 0.2368 - val_accuracy: 0.9550\n",
      "Epoch 96/100\n",
      "25/25 [==============================] - 0s 4ms/step - loss: 0.2108 - accuracy: 0.9375 - val_loss: 0.2502 - val_accuracy: 0.9150\n",
      "Epoch 97/100\n",
      "25/25 [==============================] - 0s 4ms/step - loss: 0.1886 - accuracy: 0.9450 - val_loss: 0.2490 - val_accuracy: 0.9600\n",
      "Epoch 98/100\n",
      "25/25 [==============================] - 0s 4ms/step - loss: 0.1984 - accuracy: 0.9400 - val_loss: 0.2791 - val_accuracy: 0.9250\n",
      "Epoch 99/100\n",
      "25/25 [==============================] - 0s 4ms/step - loss: 0.1952 - accuracy: 0.9413 - val_loss: 0.2249 - val_accuracy: 0.9700\n",
      "Epoch 100/100\n",
      "25/25 [==============================] - 0s 6ms/step - loss: 0.1874 - accuracy: 0.9575 - val_loss: 0.2744 - val_accuracy: 0.9050\n"
     ]
    },
    {
     "data": {
      "text/plain": [
       "<keras.src.callbacks.History at 0x196ac366410>"
      ]
     },
     "execution_count": 155,
     "metadata": {},
     "output_type": "execute_result"
    }
   ],
   "source": [
    "# Train the model\n",
    "model.fit(X_train, y_train, epochs=100, validation_data=(X_test, y_test))"
   ]
  },
  {
   "cell_type": "code",
   "execution_count": 156,
   "metadata": {},
   "outputs": [
    {
     "name": "stdout",
     "output_type": "stream",
     "text": [
      "1/7 [===>..........................] - ETA: 0s - loss: 0.3132 - accuracy: 0.9062"
     ]
    },
    {
     "name": "stdout",
     "output_type": "stream",
     "text": [
      "7/7 [==============================] - 0s 3ms/step - loss: 0.2744 - accuracy: 0.9050\n",
      "Test Accuracy: 0.9049999713897705\n"
     ]
    }
   ],
   "source": [
    "# Evaluate the model\n",
    "test_loss, test_acc = model.evaluate(X_test, y_test)\n",
    "print(f\"Test Accuracy: {test_acc}\")"
   ]
  },
  {
   "cell_type": "code",
   "execution_count": 157,
   "metadata": {},
   "outputs": [],
   "source": [
    "# Save the model and label mapping\n",
    "model.save('sign_language_model.h5')"
   ]
  },
  {
   "cell_type": "code",
   "execution_count": 158,
   "metadata": {},
   "outputs": [],
   "source": [
    "# Create a dictionary mapping class labels to class names\n",
    "label_to_class_name = {label_to_int[label]: label for label in label_to_int}"
   ]
  },
  {
   "cell_type": "markdown",
   "metadata": {},
   "source": [
    "Testing Data"
   ]
  },
  {
   "cell_type": "code",
   "execution_count": 159,
   "metadata": {},
   "outputs": [],
   "source": [
    "# Save the label mapping to a JSON file\n",
    "with open('label_mapping.json', 'w') as json_file:\n",
    "    json.dump(label_to_class_name, json_file)"
   ]
  },
  {
   "cell_type": "code",
   "execution_count": 160,
   "metadata": {},
   "outputs": [],
   "source": [
    "# Load the trained model\n",
    "model = tf.keras.models.load_model('sign_language_model.h5')"
   ]
  },
  {
   "cell_type": "code",
   "execution_count": 161,
   "metadata": {},
   "outputs": [],
   "source": [
    "# Load the label information from the JSON file\n",
    "with open('label_mapping.json', 'r') as json_file:\n",
    "    label_mapping = json.load(json_file)"
   ]
  },
  {
   "cell_type": "code",
   "execution_count": 162,
   "metadata": {},
   "outputs": [],
   "source": [
    "# Path to your test landmarks YAML file\n",
    "test_landmarks_path = 'Signs/Hello/left_10.yml'  # Replace with the path to your test landmarks YAML file"
   ]
  },
  {
   "cell_type": "code",
   "execution_count": 163,
   "metadata": {},
   "outputs": [],
   "source": [
    "# Function to preprocess hand landmarks\n",
    "def preprocess_hand_landmarks(hand_landmarks):\n",
    "    landmarks = [point['x'] for point in hand_landmarks['hand_landmarks']]\n",
    "    return np.array(landmarks)"
   ]
  },
  {
   "cell_type": "code",
   "execution_count": 164,
   "metadata": {},
   "outputs": [],
   "source": [
    "# Load hand landmarks data from YAML file\n",
    "with open(test_landmarks_path, 'r') as yaml_file:\n",
    "    hand_landmarks_data = yaml.safe_load(yaml_file)"
   ]
  },
  {
   "cell_type": "code",
   "execution_count": 165,
   "metadata": {},
   "outputs": [],
   "source": [
    "# Preprocess hand landmarks\n",
    "hand_landmarks_processed = preprocess_hand_landmarks(hand_landmarks_data)\n"
   ]
  },
  {
   "cell_type": "code",
   "execution_count": 166,
   "metadata": {},
   "outputs": [],
   "source": [
    "# Resize the data to match the input size expected by the model\n",
    "hand_landmarks_resized = np.expand_dims(hand_landmarks_processed, axis=0)\n"
   ]
  },
  {
   "cell_type": "code",
   "execution_count": 167,
   "metadata": {},
   "outputs": [
    {
     "name": "stdout",
     "output_type": "stream",
     "text": [
      "WARNING:tensorflow:5 out of the last 9 calls to <function Model.make_predict_function.<locals>.predict_function at 0x00000196AD3C1EA0> triggered tf.function retracing. Tracing is expensive and the excessive number of tracings could be due to (1) creating @tf.function repeatedly in a loop, (2) passing tensors with different shapes, (3) passing Python objects instead of tensors. For (1), please define your @tf.function outside of the loop. For (2), @tf.function has reduce_retracing=True option that can avoid unnecessary retracing. For (3), please refer to https://www.tensorflow.org/guide/function#controlling_retracing and https://www.tensorflow.org/api_docs/python/tf/function for  more details.\n",
      "1/1 [==============================] - 0s 64ms/step\n",
      "4\n"
     ]
    }
   ],
   "source": [
    "# Make prediction\n",
    "prediction = model.predict(hand_landmarks_resized)\n",
    "predicted_class = np.argmax(prediction)\n",
    "print(predicted_class)\n"
   ]
  },
  {
   "cell_type": "code",
   "execution_count": 168,
   "metadata": {},
   "outputs": [],
   "source": [
    "# Map the predicted class to its corresponding class name\n",
    "predicted_class_name = label_mapping.get(str(predicted_class), \"Unknown\")\n",
    "\n",
    "# Extract only the last part of the path (class name)\n",
    "predicted_class_name = os.path.basename(predicted_class_name)"
   ]
  },
  {
   "cell_type": "code",
   "execution_count": 169,
   "metadata": {},
   "outputs": [
    {
     "name": "stdout",
     "output_type": "stream",
     "text": [
      "Predicted Class Name: Hello\n"
     ]
    }
   ],
   "source": [
    "# Display the predicted class name\n",
    "print(f\"Predicted Class Name: {predicted_class_name}\")"
   ]
  }
 ],
 "metadata": {
  "kernelspec": {
   "display_name": "Python 3",
   "language": "python",
   "name": "python3"
  },
  "language_info": {
   "codemirror_mode": {
    "name": "ipython",
    "version": 3
   },
   "file_extension": ".py",
   "mimetype": "text/x-python",
   "name": "python",
   "nbconvert_exporter": "python",
   "pygments_lexer": "ipython3",
   "version": "3.10.11"
  }
 },
 "nbformat": 4,
 "nbformat_minor": 2
}
